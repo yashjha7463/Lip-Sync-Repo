{
  "cells": [
    {
      "cell_type": "markdown",
      "metadata": {
        "id": "hTKtgjysRayW"
      },
      "source": [
        "## Installing dependencies"
      ]
    },
    {
      "cell_type": "code",
      "execution_count": 1,
      "metadata": {
        "colab": {
          "base_uri": "https://localhost:8080/"
        },
        "id": "UWbKf4UfBGdv",
        "outputId": "41af1688-7e70-4f37-c141-3c8a46207453"
      },
      "outputs": [
        {
          "name": "stdout",
          "output_type": "stream",
          "text": [
            "Collecting pytube\n",
            "  Downloading pytube-15.0.0-py3-none-any.whl (57 kB)\n",
            "\u001b[?25l     \u001b[90m━━━━━━━━━━━━━━━━━━━━━━━━━━━━━━━━━━━━━━━━\u001b[0m \u001b[32m0.0/57.6 kB\u001b[0m \u001b[31m?\u001b[0m eta \u001b[36m-:--:--\u001b[0m\r\u001b[2K     \u001b[90m━━━━━━━━━━━━━━━━━━━━━━━━━━━━━━━━━━━━━━━━\u001b[0m \u001b[32m57.6/57.6 kB\u001b[0m \u001b[31m2.3 MB/s\u001b[0m eta \u001b[36m0:00:00\u001b[0m\n",
            "\u001b[?25hInstalling collected packages: pytube\n",
            "Successfully installed pytube-15.0.0\n",
            "Requirement already satisfied: moviepy in /usr/local/lib/python3.10/dist-packages (1.0.3)\n",
            "Requirement already satisfied: decorator<5.0,>=4.0.2 in /usr/local/lib/python3.10/dist-packages (from moviepy) (4.4.2)\n",
            "Requirement already satisfied: tqdm<5.0,>=4.11.2 in /usr/local/lib/python3.10/dist-packages (from moviepy) (4.66.1)\n",
            "Requirement already satisfied: requests<3.0,>=2.8.1 in /usr/local/lib/python3.10/dist-packages (from moviepy) (2.31.0)\n",
            "Requirement already satisfied: proglog<=1.0.0 in /usr/local/lib/python3.10/dist-packages (from moviepy) (0.1.10)\n",
            "Requirement already satisfied: numpy>=1.17.3 in /usr/local/lib/python3.10/dist-packages (from moviepy) (1.23.5)\n",
            "Requirement already satisfied: imageio<3.0,>=2.5 in /usr/local/lib/python3.10/dist-packages (from moviepy) (2.31.1)\n",
            "Requirement already satisfied: imageio-ffmpeg>=0.2.0 in /usr/local/lib/python3.10/dist-packages (from moviepy) (0.4.8)\n",
            "Requirement already satisfied: pillow>=8.3.2 in /usr/local/lib/python3.10/dist-packages (from imageio<3.0,>=2.5->moviepy) (9.4.0)\n",
            "Requirement already satisfied: charset-normalizer<4,>=2 in /usr/local/lib/python3.10/dist-packages (from requests<3.0,>=2.8.1->moviepy) (3.2.0)\n",
            "Requirement already satisfied: idna<4,>=2.5 in /usr/local/lib/python3.10/dist-packages (from requests<3.0,>=2.8.1->moviepy) (3.4)\n",
            "Requirement already satisfied: urllib3<3,>=1.21.1 in /usr/local/lib/python3.10/dist-packages (from requests<3.0,>=2.8.1->moviepy) (2.0.4)\n",
            "Requirement already satisfied: certifi>=2017.4.17 in /usr/local/lib/python3.10/dist-packages (from requests<3.0,>=2.8.1->moviepy) (2023.7.22)\n",
            "Collecting librosa==0.9.1\n",
            "  Downloading librosa-0.9.1-py3-none-any.whl (213 kB)\n",
            "\u001b[2K     \u001b[90m━━━━━━━━━━━━━━━━━━━━━━━━━━━━━━━━━━━━━━━\u001b[0m \u001b[32m213.1/213.1 kB\u001b[0m \u001b[31m1.9 MB/s\u001b[0m eta \u001b[36m0:00:00\u001b[0m\n",
            "\u001b[?25hRequirement already satisfied: audioread>=2.1.5 in /usr/local/lib/python3.10/dist-packages (from librosa==0.9.1) (3.0.0)\n",
            "Requirement already satisfied: numpy>=1.17.0 in /usr/local/lib/python3.10/dist-packages (from librosa==0.9.1) (1.23.5)\n",
            "Requirement already satisfied: scipy>=1.2.0 in /usr/local/lib/python3.10/dist-packages (from librosa==0.9.1) (1.10.1)\n",
            "Requirement already satisfied: scikit-learn>=0.19.1 in /usr/local/lib/python3.10/dist-packages (from librosa==0.9.1) (1.2.2)\n",
            "Requirement already satisfied: joblib>=0.14 in /usr/local/lib/python3.10/dist-packages (from librosa==0.9.1) (1.3.2)\n",
            "Requirement already satisfied: decorator>=4.0.10 in /usr/local/lib/python3.10/dist-packages (from librosa==0.9.1) (4.4.2)\n",
            "Collecting resampy>=0.2.2 (from librosa==0.9.1)\n",
            "  Downloading resampy-0.4.2-py3-none-any.whl (3.1 MB)\n",
            "\u001b[2K     \u001b[90m━━━━━━━━━━━━━━━━━━━━━━━━━━━━━━━━━━━━━━━━\u001b[0m \u001b[32m3.1/3.1 MB\u001b[0m \u001b[31m50.9 MB/s\u001b[0m eta \u001b[36m0:00:00\u001b[0m\n",
            "\u001b[?25hRequirement already satisfied: numba>=0.45.1 in /usr/local/lib/python3.10/dist-packages (from librosa==0.9.1) (0.56.4)\n",
            "Requirement already satisfied: soundfile>=0.10.2 in /usr/local/lib/python3.10/dist-packages (from librosa==0.9.1) (0.12.1)\n",
            "Requirement already satisfied: pooch>=1.0 in /usr/local/lib/python3.10/dist-packages (from librosa==0.9.1) (1.7.0)\n",
            "Requirement already satisfied: packaging>=20.0 in /usr/local/lib/python3.10/dist-packages (from librosa==0.9.1) (23.1)\n",
            "Requirement already satisfied: llvmlite<0.40,>=0.39.0dev0 in /usr/local/lib/python3.10/dist-packages (from numba>=0.45.1->librosa==0.9.1) (0.39.1)\n",
            "Requirement already satisfied: setuptools in /usr/local/lib/python3.10/dist-packages (from numba>=0.45.1->librosa==0.9.1) (67.7.2)\n",
            "Requirement already satisfied: platformdirs>=2.5.0 in /usr/local/lib/python3.10/dist-packages (from pooch>=1.0->librosa==0.9.1) (3.10.0)\n",
            "Requirement already satisfied: requests>=2.19.0 in /usr/local/lib/python3.10/dist-packages (from pooch>=1.0->librosa==0.9.1) (2.31.0)\n",
            "Requirement already satisfied: threadpoolctl>=2.0.0 in /usr/local/lib/python3.10/dist-packages (from scikit-learn>=0.19.1->librosa==0.9.1) (3.2.0)\n",
            "Requirement already satisfied: cffi>=1.0 in /usr/local/lib/python3.10/dist-packages (from soundfile>=0.10.2->librosa==0.9.1) (1.15.1)\n",
            "Requirement already satisfied: pycparser in /usr/local/lib/python3.10/dist-packages (from cffi>=1.0->soundfile>=0.10.2->librosa==0.9.1) (2.21)\n",
            "Requirement already satisfied: charset-normalizer<4,>=2 in /usr/local/lib/python3.10/dist-packages (from requests>=2.19.0->pooch>=1.0->librosa==0.9.1) (3.2.0)\n",
            "Requirement already satisfied: idna<4,>=2.5 in /usr/local/lib/python3.10/dist-packages (from requests>=2.19.0->pooch>=1.0->librosa==0.9.1) (3.4)\n",
            "Requirement already satisfied: urllib3<3,>=1.21.1 in /usr/local/lib/python3.10/dist-packages (from requests>=2.19.0->pooch>=1.0->librosa==0.9.1) (2.0.4)\n",
            "Requirement already satisfied: certifi>=2017.4.17 in /usr/local/lib/python3.10/dist-packages (from requests>=2.19.0->pooch>=1.0->librosa==0.9.1) (2023.7.22)\n",
            "Installing collected packages: resampy, librosa\n",
            "  Attempting uninstall: librosa\n",
            "    Found existing installation: librosa 0.10.1\n",
            "    Uninstalling librosa-0.10.1:\n",
            "      Successfully uninstalled librosa-0.10.1\n",
            "Successfully installed librosa-0.9.1 resampy-0.4.2\n"
          ]
        }
      ],
      "source": [
        "!pip install pytube\n",
        "!pip install moviepy\n",
        "!pip install librosa==0.9.1"
      ]
    },
    {
      "cell_type": "markdown",
      "metadata": {
        "id": "_ZL1_AqQRg9M"
      },
      "source": [
        "## Cloning wav2lip after modifying its code\n",
        "### Changes done in wav2lip\n",
        "\n",
        "\n",
        "1.   Changed inference.py to ignore frames without faces\n",
        "2.   Changed inference.py to adjust resolution of image for better results\n",
        "\n"
      ]
    },
    {
      "cell_type": "code",
      "execution_count": 2,
      "metadata": {
        "colab": {
          "base_uri": "https://localhost:8080/"
        },
        "id": "t8v_MqVEiU-i",
        "outputId": "a49c32cd-ec9f-42b2-b704-315f938e5b53"
      },
      "outputs": [
        {
          "name": "stdout",
          "output_type": "stream",
          "text": [
            "Cloning into 'LipSync-wave2lip-ai'...\n",
            "remote: Enumerating objects: 156, done.\u001b[K\n",
            "remote: Counting objects: 100% (156/156), done.\u001b[K\n",
            "remote: Compressing objects: 100% (127/127), done.\u001b[K\n",
            "remote: Total 156 (delta 14), reused 154 (delta 12), pack-reused 0\u001b[K\n",
            "Receiving objects: 100% (156/156), 6.15 MiB | 17.78 MiB/s, done.\n",
            "Resolving deltas: 100% (14/14), done.\n",
            "--2023-09-02 14:08:51--  https://www.adrianbulat.com/downloads/python-fan/s3fd-619a316812.pth\n",
            "Resolving www.adrianbulat.com (www.adrianbulat.com)... 45.136.29.207\n",
            "Connecting to www.adrianbulat.com (www.adrianbulat.com)|45.136.29.207|:443... connected.\n",
            "HTTP request sent, awaiting response... 200 OK\n",
            "Length: 89843225 (86M) [application/octet-stream]\n",
            "Saving to: ‘./LipSync-wave2lip-ai/Wav2Lip/face_detection/detection/sfd/s3fd.pth’\n",
            "\n",
            "./LipSync-wave2lip- 100%[===================>]  85.68M  11.2MB/s    in 7.4s    \n",
            "\n",
            "2023-09-02 14:09:00 (11.5 MB/s) - ‘./LipSync-wave2lip-ai/Wav2Lip/face_detection/detection/sfd/s3fd.pth’ saved [89843225/89843225]\n",
            "\n",
            "--2023-09-02 14:09:00--  https://iiitaphyd-my.sharepoint.com/personal/radrabha_m_research_iiit_ac_in/_layouts/15/download.aspx?share=EdjI7bZlgApMqsVoEUUXpLsBxqXbn5z8VTmoxp55YNDcIA\n",
            "Resolving iiitaphyd-my.sharepoint.com (iiitaphyd-my.sharepoint.com)... 13.107.136.8, 13.107.138.8, 2620:1ec:8f8::8, ...\n",
            "Connecting to iiitaphyd-my.sharepoint.com (iiitaphyd-my.sharepoint.com)|13.107.136.8|:443... connected.\n",
            "HTTP request sent, awaiting response... 200 OK\n",
            "Length: 435801865 (416M) [application/octet-stream]\n",
            "Saving to: ‘./LipSync-wave2lip-ai/Wav2Lip/checkpoints/wav2lip_gan.pth’\n",
            "\n",
            "./LipSync-wave2lip- 100%[===================>] 415.61M   145MB/s    in 2.9s    \n",
            "\n",
            "2023-09-02 14:09:03 (145 MB/s) - ‘./LipSync-wave2lip-ai/Wav2Lip/checkpoints/wav2lip_gan.pth’ saved [435801865/435801865]\n",
            "\n"
          ]
        }
      ],
      "source": [
        "!git clone https://github.com/stokome/LipSync-wave2lip-ai.git\n",
        "!wget 'https://www.adrianbulat.com/downloads/python-fan/s3fd-619a316812.pth' -O './LipSync-wave2lip-ai/Wav2Lip/face_detection/detection/sfd/s3fd.pth'\n",
        "!wget 'https://iiitaphyd-my.sharepoint.com/personal/radrabha_m_research_iiit_ac_in/_layouts/15/download.aspx?share=EdjI7bZlgApMqsVoEUUXpLsBxqXbn5z8VTmoxp55YNDcIA' -O './LipSync-wave2lip-ai/Wav2Lip/checkpoints/wav2lip_gan.pth'"
      ]
    },
    {
      "cell_type": "markdown",
      "metadata": {
        "id": "6NTd5PH1SCyU"
      },
      "source": [
        "## Importing Libs"
      ]
    },
    {
      "cell_type": "code",
      "execution_count": 3,
      "metadata": {
        "id": "2aQ7dktfigh_"
      },
      "outputs": [],
      "source": [
        "import os\n",
        "import cv2\n",
        "from os import path\n",
        "from tqdm import tqdm\n",
        "from pytube import YouTube"
      ]
    },
    {
      "cell_type": "markdown",
      "metadata": {
        "id": "FEezkt7qSFEp"
      },
      "source": [
        "## Download youtube video and audio"
      ]
    },
    {
      "cell_type": "code",
      "execution_count": 4,
      "metadata": {
        "colab": {
          "base_uri": "https://localhost:8080/"
        },
        "id": "zfYZuVSMBN7B",
        "outputId": "19edd145-2a93-4e6d-ebe0-28c230ca6589"
      },
      "outputs": [
        {
          "name": "stdout",
          "output_type": "stream",
          "text": [
            "video was downloaded successfully\n",
            "ffmpeg version 4.4.2-0ubuntu0.22.04.1 Copyright (c) 2000-2021 the FFmpeg developers\n",
            "  built with gcc 11 (Ubuntu 11.2.0-19ubuntu1)\n",
            "  configuration: --prefix=/usr --extra-version=0ubuntu0.22.04.1 --toolchain=hardened --libdir=/usr/lib/x86_64-linux-gnu --incdir=/usr/include/x86_64-linux-gnu --arch=amd64 --enable-gpl --disable-stripping --enable-gnutls --enable-ladspa --enable-libaom --enable-libass --enable-libbluray --enable-libbs2b --enable-libcaca --enable-libcdio --enable-libcodec2 --enable-libdav1d --enable-libflite --enable-libfontconfig --enable-libfreetype --enable-libfribidi --enable-libgme --enable-libgsm --enable-libjack --enable-libmp3lame --enable-libmysofa --enable-libopenjpeg --enable-libopenmpt --enable-libopus --enable-libpulse --enable-librabbitmq --enable-librubberband --enable-libshine --enable-libsnappy --enable-libsoxr --enable-libspeex --enable-libsrt --enable-libssh --enable-libtheora --enable-libtwolame --enable-libvidstab --enable-libvorbis --enable-libvpx --enable-libwebp --enable-libx265 --enable-libxml2 --enable-libxvid --enable-libzimg --enable-libzmq --enable-libzvbi --enable-lv2 --enable-omx --enable-openal --enable-opencl --enable-opengl --enable-sdl2 --enable-pocketsphinx --enable-librsvg --enable-libmfx --enable-libdc1394 --enable-libdrm --enable-libiec61883 --enable-chromaprint --enable-frei0r --enable-libx264 --enable-shared\n",
            "  libavutil      56. 70.100 / 56. 70.100\n",
            "  libavcodec     58.134.100 / 58.134.100\n",
            "  libavformat    58. 76.100 / 58. 76.100\n",
            "  libavdevice    58. 13.100 / 58. 13.100\n",
            "  libavfilter     7.110.100 /  7.110.100\n",
            "  libswscale      5.  9.100 /  5.  9.100\n",
            "  libswresample   3.  9.100 /  3.  9.100\n",
            "  libpostproc    55.  9.100 / 55.  9.100\n",
            "Input #0, mov,mp4,m4a,3gp,3g2,mj2, from 'youtube_video.mp4':\n",
            "  Metadata:\n",
            "    major_brand     : mp42\n",
            "    minor_version   : 0\n",
            "    compatible_brands: isommp42\n",
            "    creation_time   : 2023-05-31T06:27:58.000000Z\n",
            "  Duration: 00:10:04.81, start: 0.000000, bitrate: 728 kb/s\n",
            "  Stream #0:0(und): Video: h264 (Main) (avc1 / 0x31637661), yuv420p(tv, bt709), 1280x640 [SAR 1:1 DAR 2:1], 597 kb/s, 25 fps, 25 tbr, 12800 tbn, 50 tbc (default)\n",
            "    Metadata:\n",
            "      creation_time   : 2023-05-31T06:27:58.000000Z\n",
            "      handler_name    : ISO Media file produced by Google Inc. Created on: 05/30/2023.\n",
            "      vendor_id       : [0][0][0][0]\n",
            "  Stream #0:1(eng): Audio: aac (LC) (mp4a / 0x6134706D), 44100 Hz, stereo, fltp, 128 kb/s (default)\n",
            "    Metadata:\n",
            "      creation_time   : 2023-05-31T06:27:58.000000Z\n",
            "      handler_name    : ISO Media file produced by Google Inc. Created on: 05/30/2023.\n",
            "      vendor_id       : [0][0][0][0]\n",
            "Stream mapping:\n",
            "  Stream #0:0 -> #0:0 (h264 (native) -> h264 (libx264))\n",
            "  Stream #0:1 -> #0:1 (aac (native) -> aac (native))\n",
            "Press [q] to stop, [?] for help\n",
            "\u001b[1;36m[libx264 @ 0x584803a35340] \u001b[0musing SAR=1/1\n",
            "\u001b[1;36m[libx264 @ 0x584803a35340] \u001b[0musing cpu capabilities: MMX2 SSE2Fast SSSE3 SSE4.2 AVX FMA3 BMI2 AVX2\n",
            "\u001b[1;36m[libx264 @ 0x584803a35340] \u001b[0mprofile High, level 3.1, 4:2:0, 8-bit\n",
            "\u001b[1;36m[libx264 @ 0x584803a35340] \u001b[0m264 - core 163 r3060 5db6aa6 - H.264/MPEG-4 AVC codec - Copyleft 2003-2021 - http://www.videolan.org/x264.html - options: cabac=1 ref=3 deblock=1:0:0 analyse=0x3:0x113 me=hex subme=7 psy=1 psy_rd=1.00:0.00 mixed_ref=1 me_range=16 chroma_me=1 trellis=1 8x8dct=1 cqm=0 deadzone=21,11 fast_pskip=1 chroma_qp_offset=-2 threads=3 lookahead_threads=1 sliced_threads=0 nr=0 decimate=1 interlaced=0 bluray_compat=0 constrained_intra=0 bframes=3 b_pyramid=2 b_adapt=1 b_bias=0 direct=1 weightb=1 open_gop=0 weightp=2 keyint=250 keyint_min=25 scenecut=40 intra_refresh=0 rc_lookahead=40 rc=crf mbtree=1 crf=23.0 qcomp=0.60 qpmin=0 qpmax=69 qpstep=4 ip_ratio=1.40 aq=1:1.00\n",
            "-async is forwarded to lavfi similarly to -af aresample=async=1:min_hard_comp=0.100000:first_pts=0.\n",
            "Output #0, mp4, to './input_video.mp4':\n",
            "  Metadata:\n",
            "    major_brand     : mp42\n",
            "    minor_version   : 0\n",
            "    compatible_brands: isommp42\n",
            "    encoder         : Lavf58.76.100\n",
            "  Stream #0:0(und): Video: h264 (avc1 / 0x31637661), yuv420p(tv, bt709, progressive), 1280x640 [SAR 1:1 DAR 2:1], q=2-31, 25 fps, 12800 tbn (default)\n",
            "    Metadata:\n",
            "      creation_time   : 2023-05-31T06:27:58.000000Z\n",
            "      handler_name    : ISO Media file produced by Google Inc. Created on: 05/30/2023.\n",
            "      vendor_id       : [0][0][0][0]\n",
            "      encoder         : Lavc58.134.100 libx264\n",
            "    Side data:\n",
            "      cpb: bitrate max/min/avg: 0/0/0 buffer size: 0 vbv_delay: N/A\n",
            "  Stream #0:1(eng): Audio: aac (LC) (mp4a / 0x6134706D), 44100 Hz, stereo, fltp, 128 kb/s (default)\n",
            "    Metadata:\n",
            "      creation_time   : 2023-05-31T06:27:58.000000Z\n",
            "      handler_name    : ISO Media file produced by Google Inc. Created on: 05/30/2023.\n",
            "      vendor_id       : [0][0][0][0]\n",
            "      encoder         : Lavc58.134.100 aac\n",
            "frame= 1675 fps= 28 q=-1.0 Lsize=    7133kB time=00:01:06.98 bitrate= 872.2kbits/s speed=1.12x    \n",
            "video:6022kB audio:1055kB subtitle:0kB other streams:0kB global headers:0kB muxing overhead: 0.776816%\n",
            "\u001b[1;36m[libx264 @ 0x584803a35340] \u001b[0mframe I:12    Avg QP:15.64  size: 47203\n",
            "\u001b[1;36m[libx264 @ 0x584803a35340] \u001b[0mframe P:548   Avg QP:20.35  size:  6780\n",
            "\u001b[1;36m[libx264 @ 0x584803a35340] \u001b[0mframe B:1115  Avg QP:24.68  size:  1690\n",
            "\u001b[1;36m[libx264 @ 0x584803a35340] \u001b[0mconsecutive B-frames:  1.3% 19.2% 32.2% 47.3%\n",
            "\u001b[1;36m[libx264 @ 0x584803a35340] \u001b[0mmb I  I16..4: 30.8% 44.2% 24.9%\n",
            "\u001b[1;36m[libx264 @ 0x584803a35340] \u001b[0mmb P  I16..4:  3.1%  4.8%  0.7%  P16..4: 28.7%  7.3%  2.5%  0.0%  0.0%    skip:52.9%\n",
            "\u001b[1;36m[libx264 @ 0x584803a35340] \u001b[0mmb B  I16..4:  0.1%  0.3%  0.1%  B16..8: 22.4%  2.0%  0.2%  direct: 0.5%  skip:74.3%  L0:41.6% L1:54.2% BI: 4.2%\n",
            "\u001b[1;36m[libx264 @ 0x584803a35340] \u001b[0m8x8 transform intra:54.4% inter:69.8%\n",
            "\u001b[1;36m[libx264 @ 0x584803a35340] \u001b[0mcoded y,uvDC,uvAC intra: 30.2% 38.8% 10.9% inter: 3.4% 3.7% 0.0%\n",
            "\u001b[1;36m[libx264 @ 0x584803a35340] \u001b[0mi16 v,h,dc,p: 37% 22% 12% 29%\n",
            "\u001b[1;36m[libx264 @ 0x584803a35340] \u001b[0mi8 v,h,dc,ddl,ddr,vr,hd,vl,hu: 25% 16% 38%  3%  4%  4%  4%  3%  3%\n",
            "\u001b[1;36m[libx264 @ 0x584803a35340] \u001b[0mi4 v,h,dc,ddl,ddr,vr,hd,vl,hu: 26% 22% 16%  4%  8%  7%  8%  5%  5%\n",
            "\u001b[1;36m[libx264 @ 0x584803a35340] \u001b[0mi8c dc,h,v,p: 59% 18% 17%  6%\n",
            "\u001b[1;36m[libx264 @ 0x584803a35340] \u001b[0mWeighted P-Frames: Y:0.5% UV:0.0%\n",
            "\u001b[1;36m[libx264 @ 0x584803a35340] \u001b[0mref P L0: 71.8% 10.4% 12.4%  5.3%  0.0%\n",
            "\u001b[1;36m[libx264 @ 0x584803a35340] \u001b[0mref B L0: 86.4% 11.3%  2.2%\n",
            "\u001b[1;36m[libx264 @ 0x584803a35340] \u001b[0mref B L1: 97.8%  2.2%\n",
            "\u001b[1;36m[libx264 @ 0x584803a35340] \u001b[0mkb/s:736.26\n",
            "\u001b[1;36m[aac @ 0x584803a43900] \u001b[0mQavg: 300.501\n",
            "Downloading...\n",
            "From: https://drive.google.com/uc?id=1jhUOAeGw8lPjNf7Q1cIcBOvzE3CJ3gVz\n",
            "To: /content/output10.wav\n",
            "100% 808k/808k [00:00<00:00, 58.8MB/s]\n"
          ]
        }
      ],
      "source": [
        "def download(video_url):\n",
        "    video = YouTube(video_url)\n",
        "    video = video.streams.get_highest_resolution()\n",
        "    video.download(filename = 'youtube_video.mp4')\n",
        "    print(\"video was downloaded successfully\")\n",
        "\n",
        "download(\"https://www.youtube.com/watch?v=YMuuEv37s0o\")\n",
        "!ffmpeg -y -i youtube_video.mp4 -ss 0 -t 67 -async 1 ./input_video.mp4\n",
        "!gdown 1jhUOAeGw8lPjNf7Q1cIcBOvzE3CJ3gVz"
      ]
    },
    {
      "cell_type": "markdown",
      "metadata": {
        "id": "yMDNbUbOSN8g"
      },
      "source": [
        "## Sync downloaded sound file with lip movement in the video"
      ]
    },
    {
      "cell_type": "code",
      "execution_count": 5,
      "metadata": {
        "colab": {
          "base_uri": "https://localhost:8080/"
        },
        "id": "Fuflke3pGKqR",
        "outputId": "3790c1e2-0844-4403-f25b-92206b346aa5"
      },
      "outputs": [
        {
          "name": "stdout",
          "output_type": "stream",
          "text": [
            "Using cuda for inference.\n",
            "Reading video frames...\n",
            "Number of frames available for inference: 1675\n",
            "/content/LipSync-wave2lip-ai/Wav2Lip/audio.py:100: FutureWarning: Pass sr=16000, n_fft=800 as keyword args. From version 0.10 passing these as positional arguments will result in an error\n",
            "  return librosa.filters.mel(hp.sample_rate, hp.n_fft, n_mels=hp.num_mels,\n",
            "(80, 5386)\n",
            "Length of mel chunks: 1680\n",
            "  0% 0/14 [00:00<?, ?it/s]\n",
            "  0% 0/53 [05:14<?, ?it/s]\n",
            "Recovering from OOM error; New batch size: 16\n",
            "\n",
            "  0% 0/105 [00:00<?, ?it/s]\u001b[A\n",
            "  1% 1/105 [00:36<1:02:24, 36.00s/it]\u001b[A\n",
            "  2% 2/105 [00:38<27:56, 16.28s/it]  \u001b[A\n",
            "  3% 3/105 [00:40<16:55,  9.96s/it]\u001b[A\n",
            "  4% 4/105 [00:43<11:49,  7.02s/it]\u001b[A\n",
            "  5% 5/105 [00:46<09:05,  5.46s/it]\u001b[A\n",
            "  6% 6/105 [00:48<07:19,  4.44s/it]\u001b[A\n",
            "  7% 7/105 [00:51<06:10,  3.79s/it]\u001b[A\n",
            "  8% 8/105 [00:53<05:26,  3.36s/it]\u001b[A\n",
            "  9% 9/105 [00:55<04:57,  3.10s/it]\u001b[A\n",
            " 10% 10/105 [00:58<04:38,  2.93s/it]\u001b[A\n",
            " 10% 11/105 [01:00<04:21,  2.78s/it]\u001b[A\n",
            " 11% 12/105 [01:03<04:09,  2.68s/it]\u001b[A\n",
            " 12% 13/105 [01:05<04:00,  2.62s/it]\u001b[A\n",
            " 13% 14/105 [01:08<03:56,  2.60s/it]\u001b[A\n",
            " 14% 15/105 [01:10<03:51,  2.58s/it]\u001b[A\n",
            " 15% 16/105 [01:13<03:50,  2.59s/it]\u001b[A\n",
            " 16% 17/105 [01:16<03:51,  2.63s/it]\u001b[A\n",
            " 17% 18/105 [01:19<03:53,  2.68s/it]\u001b[A\n",
            " 18% 19/105 [01:22<03:56,  2.75s/it]\u001b[A\n",
            " 19% 20/105 [01:24<03:50,  2.72s/it]\u001b[A\n",
            " 20% 21/105 [01:27<03:47,  2.71s/it]\u001b[A\n",
            " 21% 22/105 [01:30<03:44,  2.70s/it]\u001b[A\n",
            " 22% 23/105 [01:32<03:46,  2.76s/it]\u001b[A\n",
            " 23% 24/105 [01:35<03:44,  2.77s/it]\u001b[A\n",
            " 24% 25/105 [01:38<03:37,  2.72s/it]\u001b[A\n",
            " 25% 26/105 [01:40<03:31,  2.68s/it]\u001b[A\n",
            " 26% 27/105 [01:43<03:22,  2.60s/it]\u001b[A\n",
            " 27% 28/105 [01:45<03:20,  2.60s/it]\u001b[A\n",
            " 28% 29/105 [01:48<03:13,  2.55s/it]\u001b[A\n",
            " 29% 30/105 [01:50<03:07,  2.51s/it]\u001b[A\n",
            " 30% 31/105 [01:53<03:04,  2.50s/it]\u001b[A\n",
            " 30% 32/105 [01:55<03:01,  2.48s/it]\u001b[A\n",
            " 31% 33/105 [01:58<03:00,  2.51s/it]\u001b[A\n",
            " 32% 34/105 [02:00<02:55,  2.48s/it]\u001b[A\n",
            " 33% 35/105 [02:03<02:52,  2.47s/it]\u001b[A\n",
            " 34% 36/105 [02:05<02:50,  2.47s/it]\u001b[A\n",
            " 35% 37/105 [02:08<02:47,  2.47s/it]\u001b[A\n",
            " 36% 38/105 [02:10<02:49,  2.53s/it]\u001b[A\n",
            " 37% 39/105 [02:13<02:45,  2.51s/it]\u001b[A\n",
            " 38% 40/105 [02:15<02:43,  2.51s/it]\u001b[A\n",
            " 39% 41/105 [02:18<02:40,  2.50s/it]\u001b[A\n",
            " 40% 42/105 [02:20<02:38,  2.51s/it]\u001b[A\n",
            " 41% 43/105 [02:23<02:39,  2.57s/it]\u001b[A\n",
            " 42% 44/105 [02:25<02:35,  2.55s/it]\u001b[A\n",
            " 43% 45/105 [02:28<02:32,  2.54s/it]\u001b[A\n",
            " 44% 46/105 [02:30<02:29,  2.53s/it]\u001b[A\n",
            " 45% 47/105 [02:33<02:27,  2.53s/it]\u001b[A\n",
            " 46% 48/105 [02:36<02:27,  2.59s/it]\u001b[A\n",
            " 47% 49/105 [02:38<02:23,  2.56s/it]\u001b[A\n",
            " 48% 50/105 [02:41<02:19,  2.54s/it]\u001b[A\n",
            " 49% 51/105 [02:43<02:15,  2.51s/it]\u001b[A\n",
            " 50% 52/105 [02:46<02:13,  2.51s/it]\u001b[A\n",
            " 50% 53/105 [02:48<02:13,  2.57s/it]\u001b[A\n",
            " 51% 54/105 [02:51<02:09,  2.55s/it]\u001b[A\n",
            " 52% 55/105 [02:53<02:06,  2.53s/it]\u001b[A\n",
            " 53% 56/105 [02:56<02:03,  2.52s/it]\u001b[A\n",
            " 54% 57/105 [02:58<02:01,  2.54s/it]\u001b[A\n",
            " 55% 58/105 [03:01<02:01,  2.59s/it]\u001b[A\n",
            " 56% 59/105 [03:04<01:58,  2.57s/it]\u001b[A\n",
            " 57% 60/105 [03:06<01:54,  2.55s/it]\u001b[A\n",
            " 58% 61/105 [03:09<01:51,  2.54s/it]\u001b[A\n",
            " 59% 62/105 [03:11<01:49,  2.54s/it]\u001b[A\n",
            " 60% 63/105 [03:14<01:48,  2.58s/it]\u001b[A\n",
            " 61% 64/105 [03:16<01:44,  2.54s/it]\u001b[A\n",
            " 62% 65/105 [03:19<01:40,  2.52s/it]\u001b[A\n",
            " 63% 66/105 [03:21<01:37,  2.51s/it]\u001b[A\n",
            " 64% 67/105 [03:24<01:36,  2.53s/it]\u001b[A\n",
            " 65% 68/105 [03:26<01:33,  2.52s/it]\u001b[A\n",
            " 66% 69/105 [03:29<01:30,  2.51s/it]\u001b[A\n",
            " 67% 70/105 [03:31<01:27,  2.50s/it]\u001b[A\n",
            " 68% 71/105 [03:34<01:24,  2.49s/it]\u001b[A\n",
            " 69% 72/105 [03:37<01:24,  2.56s/it]\u001b[A\n",
            " 70% 73/105 [03:39<01:23,  2.61s/it]\u001b[A\n",
            " 70% 74/105 [03:42<01:19,  2.57s/it]\u001b[A\n",
            " 71% 75/105 [03:44<01:16,  2.55s/it]\u001b[A\n",
            " 72% 76/105 [03:47<01:13,  2.53s/it]\u001b[A\n",
            " 73% 77/105 [03:49<01:10,  2.53s/it]\u001b[A\n",
            " 74% 78/105 [03:52<01:09,  2.58s/it]\u001b[A\n",
            " 75% 79/105 [03:54<01:06,  2.56s/it]\u001b[A\n",
            " 76% 80/105 [03:57<01:03,  2.54s/it]\u001b[A\n",
            " 77% 81/105 [03:59<01:00,  2.52s/it]\u001b[A\n",
            " 78% 82/105 [04:02<00:57,  2.51s/it]\u001b[A\n",
            " 79% 83/105 [04:05<00:56,  2.56s/it]\u001b[A\n",
            " 80% 84/105 [04:07<00:53,  2.54s/it]\u001b[A\n",
            " 81% 85/105 [04:10<00:50,  2.52s/it]\u001b[A\n",
            " 82% 86/105 [04:12<00:47,  2.51s/it]\u001b[A\n",
            " 83% 87/105 [04:15<00:45,  2.54s/it]\u001b[A\n",
            " 84% 88/105 [04:17<00:43,  2.58s/it]\u001b[A\n",
            " 85% 89/105 [04:20<00:40,  2.55s/it]\u001b[A\n",
            " 86% 90/105 [04:22<00:37,  2.53s/it]\u001b[A\n",
            " 87% 91/105 [04:25<00:35,  2.52s/it]\u001b[A\n",
            " 88% 92/105 [04:27<00:33,  2.54s/it]\u001b[A\n",
            " 89% 93/105 [04:30<00:30,  2.53s/it]\u001b[A\n",
            " 90% 94/105 [04:33<00:28,  2.60s/it]\u001b[A\n",
            " 90% 95/105 [04:36<00:29,  2.91s/it]\u001b[A\n",
            " 91% 96/105 [04:40<00:28,  3.22s/it]\u001b[A\n",
            " 92% 97/105 [04:44<00:26,  3.33s/it]\u001b[A\n",
            " 93% 98/105 [04:47<00:23,  3.35s/it]\u001b[A\n",
            " 94% 99/105 [04:51<00:21,  3.52s/it]\u001b[A\n",
            " 95% 100/105 [04:55<00:17,  3.55s/it]\u001b[A\n",
            " 96% 101/105 [04:57<00:12,  3.22s/it]\u001b[A\n",
            " 97% 102/105 [05:00<00:08,  2.99s/it]\u001b[A\n",
            " 98% 103/105 [05:02<00:05,  2.84s/it]\u001b[A\n",
            " 99% 104/105 [05:05<00:02,  2.82s/it]\u001b[A\n",
            "100% 105/105 [05:30<00:00,  3.15s/it]\n",
            "Load checkpoint from: checkpoints/wav2lip_gan.pth\n",
            "Model loaded\n",
            "100% 14/14 [11:17<00:00, 48.40s/it]\n",
            "ffmpeg version 4.4.2-0ubuntu0.22.04.1 Copyright (c) 2000-2021 the FFmpeg developers\n",
            "  built with gcc 11 (Ubuntu 11.2.0-19ubuntu1)\n",
            "  configuration: --prefix=/usr --extra-version=0ubuntu0.22.04.1 --toolchain=hardened --libdir=/usr/lib/x86_64-linux-gnu --incdir=/usr/include/x86_64-linux-gnu --arch=amd64 --enable-gpl --disable-stripping --enable-gnutls --enable-ladspa --enable-libaom --enable-libass --enable-libbluray --enable-libbs2b --enable-libcaca --enable-libcdio --enable-libcodec2 --enable-libdav1d --enable-libflite --enable-libfontconfig --enable-libfreetype --enable-libfribidi --enable-libgme --enable-libgsm --enable-libjack --enable-libmp3lame --enable-libmysofa --enable-libopenjpeg --enable-libopenmpt --enable-libopus --enable-libpulse --enable-librabbitmq --enable-librubberband --enable-libshine --enable-libsnappy --enable-libsoxr --enable-libspeex --enable-libsrt --enable-libssh --enable-libtheora --enable-libtwolame --enable-libvidstab --enable-libvorbis --enable-libvpx --enable-libwebp --enable-libx265 --enable-libxml2 --enable-libxvid --enable-libzimg --enable-libzmq --enable-libzvbi --enable-lv2 --enable-omx --enable-openal --enable-opencl --enable-opengl --enable-sdl2 --enable-pocketsphinx --enable-librsvg --enable-libmfx --enable-libdc1394 --enable-libdrm --enable-libiec61883 --enable-chromaprint --enable-frei0r --enable-libx264 --enable-shared\n",
            "  libavutil      56. 70.100 / 56. 70.100\n",
            "  libavcodec     58.134.100 / 58.134.100\n",
            "  libavformat    58. 76.100 / 58. 76.100\n",
            "  libavdevice    58. 13.100 / 58. 13.100\n",
            "  libavfilter     7.110.100 /  7.110.100\n",
            "  libswscale      5.  9.100 /  5.  9.100\n",
            "  libswresample   3.  9.100 /  3.  9.100\n",
            "  libpostproc    55.  9.100 / 55.  9.100\n",
            "\u001b[0;35m[mp3 @ 0x5b412d40c2c0] \u001b[0m\u001b[0;33mEstimating duration from bitrate, this may be inaccurate\n",
            "\u001b[0mInput #0, mp3, from '../../output10.wav':\n",
            "  Duration: 00:01:07.32, start: 0.000000, bitrate: 96 kb/s\n",
            "  Stream #0:0: Audio: mp3, 44100 Hz, mono, fltp, 96 kb/s\n",
            "Input #1, avi, from 'temp/result.avi':\n",
            "  Metadata:\n",
            "    software        : Lavf59.27.100\n",
            "  Duration: 00:01:07.20, start: 0.000000, bitrate: 2138 kb/s\n",
            "  Stream #1:0: Video: mpeg4 (Simple Profile) (DIVX / 0x58564944), yuv420p, 1280x640 [SAR 1:1 DAR 2:1], 2134 kb/s, 25 fps, 25 tbr, 25 tbn, 25 tbc\n",
            "Stream mapping:\n",
            "  Stream #1:0 -> #0:0 (mpeg4 (native) -> h264 (libx264))\n",
            "  Stream #0:0 -> #0:1 (mp3 (mp3float) -> aac (native))\n",
            "Press [q] to stop, [?] for help\n",
            "\u001b[1;36m[libx264 @ 0x5b412d44f780] \u001b[0m\u001b[0;33m-qscale is ignored, -crf is recommended.\n",
            "\u001b[0m\u001b[1;36m[libx264 @ 0x5b412d44f780] \u001b[0musing SAR=1/1\n",
            "\u001b[1;36m[libx264 @ 0x5b412d44f780] \u001b[0musing cpu capabilities: MMX2 SSE2Fast SSSE3 SSE4.2 AVX FMA3 BMI2 AVX2\n",
            "\u001b[1;36m[libx264 @ 0x5b412d44f780] \u001b[0mprofile High, level 3.1, 4:2:0, 8-bit\n",
            "\u001b[1;36m[libx264 @ 0x5b412d44f780] \u001b[0m264 - core 163 r3060 5db6aa6 - H.264/MPEG-4 AVC codec - Copyleft 2003-2021 - http://www.videolan.org/x264.html - options: cabac=1 ref=3 deblock=1:0:0 analyse=0x3:0x113 me=hex subme=7 psy=1 psy_rd=1.00:0.00 mixed_ref=1 me_range=16 chroma_me=1 trellis=1 8x8dct=1 cqm=0 deadzone=21,11 fast_pskip=1 chroma_qp_offset=-2 threads=3 lookahead_threads=1 sliced_threads=0 nr=0 decimate=1 interlaced=0 bluray_compat=0 constrained_intra=0 bframes=3 b_pyramid=2 b_adapt=1 b_bias=0 direct=1 weightb=1 open_gop=0 weightp=2 keyint=250 keyint_min=25 scenecut=40 intra_refresh=0 rc_lookahead=40 rc=crf mbtree=1 crf=23.0 qcomp=0.60 qpmin=0 qpmax=69 qpstep=4 ip_ratio=1.40 aq=1:1.00\n",
            "Output #0, mp4, to '../../output_video.mp4':\n",
            "  Metadata:\n",
            "    encoder         : Lavf58.76.100\n",
            "  Stream #0:0: Video: h264 (avc1 / 0x31637661), yuv420p(progressive), 1280x640 [SAR 1:1 DAR 2:1], q=2-31, 25 fps, 12800 tbn\n",
            "    Metadata:\n",
            "      encoder         : Lavc58.134.100 libx264\n",
            "    Side data:\n",
            "      cpb: bitrate max/min/avg: 0/0/0 buffer size: 0 vbv_delay: N/A\n",
            "  Stream #0:1: Audio: aac (LC) (mp4a / 0x6134706D), 44100 Hz, mono, fltp, 69 kb/s\n",
            "    Metadata:\n",
            "      encoder         : Lavc58.134.100 aac\n",
            "frame= 1680 fps= 29 q=-1.0 Lsize=    8072kB time=00:01:07.31 bitrate= 982.3kbits/s speed=1.15x    \n",
            "video:7450kB audio:571kB subtitle:0kB other streams:0kB global headers:0kB muxing overhead: 0.633052%\n",
            "\u001b[1;36m[libx264 @ 0x5b412d44f780] \u001b[0mframe I:13    Avg QP:16.07  size: 43013\n",
            "\u001b[1;36m[libx264 @ 0x5b412d44f780] \u001b[0mframe P:1095  Avg QP:21.23  size:  5214\n",
            "\u001b[1;36m[libx264 @ 0x5b412d44f780] \u001b[0mframe B:572   Avg QP:24.20  size:  2377\n",
            "\u001b[1;36m[libx264 @ 0x5b412d44f780] \u001b[0mconsecutive B-frames: 49.6% 11.7% 10.2% 28.6%\n",
            "\u001b[1;36m[libx264 @ 0x5b412d44f780] \u001b[0mmb I  I16..4: 29.5% 63.0%  7.5%\n",
            "\u001b[1;36m[libx264 @ 0x5b412d44f780] \u001b[0mmb P  I16..4:  1.4%  6.0%  0.2%  P16..4: 28.0%  4.7%  1.8%  0.0%  0.0%    skip:58.0%\n",
            "\u001b[1;36m[libx264 @ 0x5b412d44f780] \u001b[0mmb B  I16..4:  0.3%  1.6%  0.0%  B16..8: 26.9%  2.3%  0.2%  direct: 0.8%  skip:67.7%  L0:53.1% L1:43.0% BI: 3.9%\n",
            "\u001b[1;36m[libx264 @ 0x5b412d44f780] \u001b[0m8x8 transform intra:77.8% inter:84.4%\n",
            "\u001b[1;36m[libx264 @ 0x5b412d44f780] \u001b[0mcoded y,uvDC,uvAC intra: 33.5% 42.8% 7.6% inter: 5.1% 6.8% 0.1%\n",
            "\u001b[1;36m[libx264 @ 0x5b412d44f780] \u001b[0mi16 v,h,dc,p: 40% 28% 20% 13%\n",
            "\u001b[1;36m[libx264 @ 0x5b412d44f780] \u001b[0mi8 v,h,dc,ddl,ddr,vr,hd,vl,hu: 25% 21% 43%  2%  2%  2%  2%  2%  2%\n",
            "\u001b[1;36m[libx264 @ 0x5b412d44f780] \u001b[0mi4 v,h,dc,ddl,ddr,vr,hd,vl,hu: 29% 24% 14%  4%  7%  7%  7%  5%  3%\n",
            "\u001b[1;36m[libx264 @ 0x5b412d44f780] \u001b[0mi8c dc,h,v,p: 54% 22% 20%  4%\n",
            "\u001b[1;36m[libx264 @ 0x5b412d44f780] \u001b[0mWeighted P-Frames: Y:0.2% UV:0.0%\n",
            "\u001b[1;36m[libx264 @ 0x5b412d44f780] \u001b[0mref P L0: 74.8%  7.9% 13.2%  4.1%  0.0%\n",
            "\u001b[1;36m[libx264 @ 0x5b412d44f780] \u001b[0mref B L0: 85.0% 12.0%  2.9%\n",
            "\u001b[1;36m[libx264 @ 0x5b412d44f780] \u001b[0mref B L1: 97.2%  2.8%\n",
            "\u001b[1;36m[libx264 @ 0x5b412d44f780] \u001b[0mkb/s:908.10\n",
            "\u001b[1;36m[aac @ 0x5b412d4510c0] \u001b[0mQavg: 158.533\n"
          ]
        }
      ],
      "source": [
        "!cd ./LipSync-wave2lip-ai/Wav2Lip && python inference.py --checkpoint_path checkpoints/wav2lip_gan.pth --face \"../../input_video.mp4\" --audio \"../../output10.wav\" --nosmooth --outfile '../../output_video.mp4' --fps 25 --face_det_batch_size 32 --wav2lip_batch_size 128"
      ]
    },
    {
      "cell_type": "markdown",
      "metadata": {
        "id": "fy600PqKSYWr"
      },
      "source": [
        "## Output video gets downloaded from here"
      ]
    },
    {
      "cell_type": "code",
      "execution_count": 6,
      "metadata": {
        "colab": {
          "base_uri": "https://localhost:8080/",
          "height": 17
        },
        "id": "oxneZzgtIL61",
        "outputId": "664fde4e-204d-472f-c6c8-67542d590106"
      },
      "outputs": [
        {
          "data": {
            "application/javascript": "\n    async function download(id, filename, size) {\n      if (!google.colab.kernel.accessAllowed) {\n        return;\n      }\n      const div = document.createElement('div');\n      const label = document.createElement('label');\n      label.textContent = `Downloading \"${filename}\": `;\n      div.appendChild(label);\n      const progress = document.createElement('progress');\n      progress.max = size;\n      div.appendChild(progress);\n      document.body.appendChild(div);\n\n      const buffers = [];\n      let downloaded = 0;\n\n      const channel = await google.colab.kernel.comms.open(id);\n      // Send a message to notify the kernel that we're ready.\n      channel.send({})\n\n      for await (const message of channel.messages) {\n        // Send a message to notify the kernel that we're ready.\n        channel.send({})\n        if (message.buffers) {\n          for (const buffer of message.buffers) {\n            buffers.push(buffer);\n            downloaded += buffer.byteLength;\n            progress.value = downloaded;\n          }\n        }\n      }\n      const blob = new Blob(buffers, {type: 'application/binary'});\n      const a = document.createElement('a');\n      a.href = window.URL.createObjectURL(blob);\n      a.download = filename;\n      div.appendChild(a);\n      a.click();\n      div.remove();\n    }\n  ",
            "text/plain": [
              "<IPython.core.display.Javascript object>"
            ]
          },
          "metadata": {},
          "output_type": "display_data"
        },
        {
          "data": {
            "application/javascript": "download(\"download_f56422f2-6650-4c10-803b-5121b7fc8bab\", \"output_video.mp4\", 8265224)",
            "text/plain": [
              "<IPython.core.display.Javascript object>"
            ]
          },
          "metadata": {},
          "output_type": "display_data"
        }
      ],
      "source": [
        "from google.colab import files\n",
        "files.download('./output_video.mp4')"
      ]
    }
  ],
  "metadata": {
    "accelerator": "GPU",
    "colab": {
      "gpuType": "T4",
      "provenance": []
    },
    "kernelspec": {
      "display_name": "Python 3",
      "name": "python3"
    },
    "language_info": {
      "name": "python",
      "version": "3.9.0"
    }
  },
  "nbformat": 4,
  "nbformat_minor": 0
}
