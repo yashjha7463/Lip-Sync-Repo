{
  "cells": [
    {
      "cell_type": "markdown",
      "metadata": {
        "id": "L4VSCKAVoG1P"
      },
      "source": [
        "# Dependencies"
      ]
    },
    {
      "cell_type": "code",
      "execution_count": 5,
      "metadata": {
        "colab": {
          "base_uri": "https://localhost:8080/"
        },
        "id": "FbwKvBC4jy27",
        "outputId": "54dd242a-daed-4378-8bf1-b3d921a536a2"
      },
      "outputs": [
        {
          "name": "stdout",
          "output_type": "stream",
          "text": [
            "Requirement already satisfied: pytube in /usr/local/lib/python3.10/dist-packages (15.0.0)\n",
            "Requirement already satisfied: moviepy in /usr/local/lib/python3.10/dist-packages (1.0.3)\n",
            "Requirement already satisfied: decorator<5.0,>=4.0.2 in /usr/local/lib/python3.10/dist-packages (from moviepy) (4.4.2)\n",
            "Requirement already satisfied: tqdm<5.0,>=4.11.2 in /usr/local/lib/python3.10/dist-packages (from moviepy) (4.66.1)\n",
            "Requirement already satisfied: requests<3.0,>=2.8.1 in /usr/local/lib/python3.10/dist-packages (from moviepy) (2.31.0)\n",
            "Requirement already satisfied: proglog<=1.0.0 in /usr/local/lib/python3.10/dist-packages (from moviepy) (0.1.10)\n",
            "Requirement already satisfied: numpy>=1.17.3 in /usr/local/lib/python3.10/dist-packages (from moviepy) (1.23.5)\n",
            "Requirement already satisfied: imageio<3.0,>=2.5 in /usr/local/lib/python3.10/dist-packages (from moviepy) (2.31.6)\n",
            "Requirement already satisfied: imageio-ffmpeg>=0.2.0 in /usr/local/lib/python3.10/dist-packages (from moviepy) (0.4.9)\n",
            "Requirement already satisfied: pillow<10.1.0,>=8.3.2 in /usr/local/lib/python3.10/dist-packages (from imageio<3.0,>=2.5->moviepy) (9.4.0)\n",
            "Requirement already satisfied: setuptools in /usr/local/lib/python3.10/dist-packages (from imageio-ffmpeg>=0.2.0->moviepy) (67.7.2)\n",
            "Requirement already satisfied: charset-normalizer<4,>=2 in /usr/local/lib/python3.10/dist-packages (from requests<3.0,>=2.8.1->moviepy) (3.3.1)\n",
            "Requirement already satisfied: idna<4,>=2.5 in /usr/local/lib/python3.10/dist-packages (from requests<3.0,>=2.8.1->moviepy) (3.4)\n",
            "Requirement already satisfied: urllib3<3,>=1.21.1 in /usr/local/lib/python3.10/dist-packages (from requests<3.0,>=2.8.1->moviepy) (2.0.7)\n",
            "Requirement already satisfied: certifi>=2017.4.17 in /usr/local/lib/python3.10/dist-packages (from requests<3.0,>=2.8.1->moviepy) (2023.7.22)\n",
            "Requirement already satisfied: librosa==0.9.1 in /usr/local/lib/python3.10/dist-packages (0.9.1)\n",
            "Requirement already satisfied: audioread>=2.1.5 in /usr/local/lib/python3.10/dist-packages (from librosa==0.9.1) (3.0.1)\n",
            "Requirement already satisfied: numpy>=1.17.0 in /usr/local/lib/python3.10/dist-packages (from librosa==0.9.1) (1.23.5)\n",
            "Requirement already satisfied: scipy>=1.2.0 in /usr/local/lib/python3.10/dist-packages (from librosa==0.9.1) (1.11.3)\n",
            "Requirement already satisfied: scikit-learn>=0.19.1 in /usr/local/lib/python3.10/dist-packages (from librosa==0.9.1) (1.2.2)\n",
            "Requirement already satisfied: joblib>=0.14 in /usr/local/lib/python3.10/dist-packages (from librosa==0.9.1) (1.3.2)\n",
            "Requirement already satisfied: decorator>=4.0.10 in /usr/local/lib/python3.10/dist-packages (from librosa==0.9.1) (4.4.2)\n",
            "Requirement already satisfied: resampy>=0.2.2 in /usr/local/lib/python3.10/dist-packages (from librosa==0.9.1) (0.4.2)\n",
            "Requirement already satisfied: numba>=0.45.1 in /usr/local/lib/python3.10/dist-packages (from librosa==0.9.1) (0.56.4)\n",
            "Requirement already satisfied: soundfile>=0.10.2 in /usr/local/lib/python3.10/dist-packages (from librosa==0.9.1) (0.12.1)\n",
            "Requirement already satisfied: pooch>=1.0 in /usr/local/lib/python3.10/dist-packages (from librosa==0.9.1) (1.8.0)\n",
            "Requirement already satisfied: packaging>=20.0 in /usr/local/lib/python3.10/dist-packages (from librosa==0.9.1) (23.2)\n",
            "Requirement already satisfied: llvmlite<0.40,>=0.39.0dev0 in /usr/local/lib/python3.10/dist-packages (from numba>=0.45.1->librosa==0.9.1) (0.39.1)\n",
            "Requirement already satisfied: setuptools in /usr/local/lib/python3.10/dist-packages (from numba>=0.45.1->librosa==0.9.1) (67.7.2)\n",
            "Requirement already satisfied: platformdirs>=2.5.0 in /usr/local/lib/python3.10/dist-packages (from pooch>=1.0->librosa==0.9.1) (3.11.0)\n",
            "Requirement already satisfied: requests>=2.19.0 in /usr/local/lib/python3.10/dist-packages (from pooch>=1.0->librosa==0.9.1) (2.31.0)\n",
            "Requirement already satisfied: threadpoolctl>=2.0.0 in /usr/local/lib/python3.10/dist-packages (from scikit-learn>=0.19.1->librosa==0.9.1) (3.2.0)\n",
            "Requirement already satisfied: cffi>=1.0 in /usr/local/lib/python3.10/dist-packages (from soundfile>=0.10.2->librosa==0.9.1) (1.16.0)\n",
            "Requirement already satisfied: pycparser in /usr/local/lib/python3.10/dist-packages (from cffi>=1.0->soundfile>=0.10.2->librosa==0.9.1) (2.21)\n",
            "Requirement already satisfied: charset-normalizer<4,>=2 in /usr/local/lib/python3.10/dist-packages (from requests>=2.19.0->pooch>=1.0->librosa==0.9.1) (3.3.1)\n",
            "Requirement already satisfied: idna<4,>=2.5 in /usr/local/lib/python3.10/dist-packages (from requests>=2.19.0->pooch>=1.0->librosa==0.9.1) (3.4)\n",
            "Requirement already satisfied: urllib3<3,>=1.21.1 in /usr/local/lib/python3.10/dist-packages (from requests>=2.19.0->pooch>=1.0->librosa==0.9.1) (2.0.7)\n",
            "Requirement already satisfied: certifi>=2017.4.17 in /usr/local/lib/python3.10/dist-packages (from requests>=2.19.0->pooch>=1.0->librosa==0.9.1) (2023.7.22)\n"
          ]
        }
      ],
      "source": [
        "# Make sure to change runtime type to gpu\n",
        "!pip install pytube\n",
        "!pip install moviepy\n",
        "!pip install librosa==0.9.1"
      ]
    },
    {
      "cell_type": "markdown",
      "metadata": {
        "id": "RnzzYWhfoZPL"
      },
      "source": [
        "# wav2lip model"
      ]
    },
    {
      "cell_type": "code",
      "execution_count": 2,
      "metadata": {
        "colab": {
          "base_uri": "https://localhost:8080/"
        },
        "id": "YiYNp_21ncPI",
        "outputId": "57e8e392-d4d9-4944-9f05-c1b01f650ef7"
      },
      "outputs": [
        {
          "name": "stdout",
          "output_type": "stream",
          "text": [
            "Cloning into 'Lip-Sync-Repo'...\n",
            "remote: Enumerating objects: 146, done.\u001b[K\n",
            "remote: Counting objects: 100% (146/146), done.\u001b[K\n",
            "remote: Compressing objects: 100% (118/118), done.\u001b[K\n",
            "remote: Total 146 (delta 12), reused 146 (delta 12), pack-reused 0\u001b[K\n",
            "Receiving objects: 100% (146/146), 3.85 MiB | 14.07 MiB/s, done.\n",
            "Resolving deltas: 100% (12/12), done.\n",
            "--2023-11-05 04:39:38--  https://www.adrianbulat.com/downloads/python-fan/s3fd-619a316812.pth\n",
            "Resolving www.adrianbulat.com (www.adrianbulat.com)... 45.136.29.207\n",
            "Connecting to www.adrianbulat.com (www.adrianbulat.com)|45.136.29.207|:443... connected.\n",
            "HTTP request sent, awaiting response... 200 OK\n",
            "Length: 89843225 (86M) [application/octet-stream]\n",
            "Saving to: ‘./Lip-Sync-Repo/Wav2Lip/face_detection/detection/sfd/s3fd.pth’\n",
            "\n",
            "./Lip-Sync-Repo/Wav 100%[===================>]  85.68M  25.5MB/s    in 3.4s    \n",
            "\n",
            "2023-11-05 04:39:42 (25.5 MB/s) - ‘./Lip-Sync-Repo/Wav2Lip/face_detection/detection/sfd/s3fd.pth’ saved [89843225/89843225]\n",
            "\n",
            "--2023-11-05 04:39:42--  https://iiitaphyd-my.sharepoint.com/personal/radrabha_m_research_iiit_ac_in/_layouts/15/download.aspx?share=EdjI7bZlgApMqsVoEUUXpLsBxqXbn5z8VTmoxp55YNDcIA\n",
            "Resolving iiitaphyd-my.sharepoint.com (iiitaphyd-my.sharepoint.com)... 13.107.136.10, 13.107.138.10, 2620:1ec:8f8::10, ...\n",
            "Connecting to iiitaphyd-my.sharepoint.com (iiitaphyd-my.sharepoint.com)|13.107.136.10|:443... connected.\n",
            "HTTP request sent, awaiting response... 200 OK\n",
            "Length: 435801865 (416M) [application/octet-stream]\n",
            "Saving to: ‘./Lip-Sync-Repo/Wav2Lip/checkpoints/wav2lip_gan.pth’\n",
            "\n",
            "./Lip-Sync-Repo/Wav 100%[===================>] 415.61M   103MB/s    in 7.5s    \n",
            "\n",
            "2023-11-05 04:39:51 (55.6 MB/s) - ‘./Lip-Sync-Repo/Wav2Lip/checkpoints/wav2lip_gan.pth’ saved [435801865/435801865]\n",
            "\n"
          ]
        }
      ],
      "source": [
        "!git clone https://github.com/yashjha7463/Lip-Sync-Repo.git\n",
        "\n",
        "# Clones a Git repository from the provided URL, to obtain the project's source code.\n",
        "\n",
        "!wget 'https://www.adrianbulat.com/downloads/python-fan/s3fd-619a316812.pth' -O './Lip-Sync-Repo/Wav2Lip/face_detection/detection/sfd/s3fd.pth'\n",
        "\n",
        "# Downloads a pre-trained model file and saves it to the specified directory.\n",
        "\n",
        "!wget 'https://iiitaphyd-my.sharepoint.com/personal/radrabha_m_research_iiit_ac_in/_layouts/15/download.aspx?share=EdjI7bZlgApMqsVoEUUXpLsBxqXbn5z8VTmoxp55YNDcIA' -O './Lip-Sync-Repo/Wav2Lip/checkpoints/wav2lip_gan.pth'\n",
        "\n",
        "# Again downloads another pre-trained model file and saves it...\n"
      ]
    },
    {
      "cell_type": "markdown",
      "metadata": {
        "id": "zMrqfXSapTZt"
      },
      "source": [
        "# Libraries"
      ]
    },
    {
      "cell_type": "code",
      "execution_count": 6,
      "metadata": {
        "id": "eU_oBUGOnyk9"
      },
      "outputs": [],
      "source": [
        "import os  # Module for interacting with the operating system.\n",
        "from os import path  # Import 'path' module from 'os' for working with file paths.\n",
        "import cv2  # OpenCV library for image and video processing.\n",
        "from tqdm import tqdm  # Provides a progress bar for loops using 'tqdm'.\n",
        "from pytube import YouTube  # Library for downloading videos from YouTube.\n"
      ]
    },
    {
      "cell_type": "markdown",
      "metadata": {
        "id": "7mbXszDTpZHT"
      },
      "source": [
        "# Downloading the Input Video and Audio"
      ]
    },
    {
      "cell_type": "code",
      "execution_count": 4,
      "metadata": {
        "colab": {
          "base_uri": "https://localhost:8080/"
        },
        "id": "KyjZ9REYoxc_",
        "outputId": "b1680ca0-8830-4873-c5e4-d431781e86fd"
      },
      "outputs": [
        {
          "name": "stdout",
          "output_type": "stream",
          "text": [
            "video was downloaded successfully\n",
            "ffmpeg version 4.4.2-0ubuntu0.22.04.1 Copyright (c) 2000-2021 the FFmpeg developers\n",
            "  built with gcc 11 (Ubuntu 11.2.0-19ubuntu1)\n",
            "  configuration: --prefix=/usr --extra-version=0ubuntu0.22.04.1 --toolchain=hardened --libdir=/usr/lib/x86_64-linux-gnu --incdir=/usr/include/x86_64-linux-gnu --arch=amd64 --enable-gpl --disable-stripping --enable-gnutls --enable-ladspa --enable-libaom --enable-libass --enable-libbluray --enable-libbs2b --enable-libcaca --enable-libcdio --enable-libcodec2 --enable-libdav1d --enable-libflite --enable-libfontconfig --enable-libfreetype --enable-libfribidi --enable-libgme --enable-libgsm --enable-libjack --enable-libmp3lame --enable-libmysofa --enable-libopenjpeg --enable-libopenmpt --enable-libopus --enable-libpulse --enable-librabbitmq --enable-librubberband --enable-libshine --enable-libsnappy --enable-libsoxr --enable-libspeex --enable-libsrt --enable-libssh --enable-libtheora --enable-libtwolame --enable-libvidstab --enable-libvorbis --enable-libvpx --enable-libwebp --enable-libx265 --enable-libxml2 --enable-libxvid --enable-libzimg --enable-libzmq --enable-libzvbi --enable-lv2 --enable-omx --enable-openal --enable-opencl --enable-opengl --enable-sdl2 --enable-pocketsphinx --enable-librsvg --enable-libmfx --enable-libdc1394 --enable-libdrm --enable-libiec61883 --enable-chromaprint --enable-frei0r --enable-libx264 --enable-shared\n",
            "  libavutil      56. 70.100 / 56. 70.100\n",
            "  libavcodec     58.134.100 / 58.134.100\n",
            "  libavformat    58. 76.100 / 58. 76.100\n",
            "  libavdevice    58. 13.100 / 58. 13.100\n",
            "  libavfilter     7.110.100 /  7.110.100\n",
            "  libswscale      5.  9.100 /  5.  9.100\n",
            "  libswresample   3.  9.100 /  3.  9.100\n",
            "  libpostproc    55.  9.100 / 55.  9.100\n",
            "Input #0, mov,mp4,m4a,3gp,3g2,mj2, from 'youtube_video.mp4':\n",
            "  Metadata:\n",
            "    major_brand     : mp42\n",
            "    minor_version   : 0\n",
            "    compatible_brands: isommp42\n",
            "    creation_time   : 2023-05-31T06:27:58.000000Z\n",
            "  Duration: 00:10:04.81, start: 0.000000, bitrate: 728 kb/s\n",
            "  Stream #0:0(und): Video: h264 (Main) (avc1 / 0x31637661), yuv420p(tv, bt709), 1280x640 [SAR 1:1 DAR 2:1], 597 kb/s, 25 fps, 25 tbr, 12800 tbn, 50 tbc (default)\n",
            "    Metadata:\n",
            "      creation_time   : 2023-05-31T06:27:58.000000Z\n",
            "      handler_name    : ISO Media file produced by Google Inc. Created on: 05/30/2023.\n",
            "      vendor_id       : [0][0][0][0]\n",
            "  Stream #0:1(eng): Audio: aac (LC) (mp4a / 0x6134706D), 44100 Hz, stereo, fltp, 128 kb/s (default)\n",
            "    Metadata:\n",
            "      creation_time   : 2023-05-31T06:27:58.000000Z\n",
            "      handler_name    : ISO Media file produced by Google Inc. Created on: 05/30/2023.\n",
            "      vendor_id       : [0][0][0][0]\n",
            "Stream mapping:\n",
            "  Stream #0:0 -> #0:0 (h264 (native) -> h264 (libx264))\n",
            "  Stream #0:1 -> #0:1 (aac (native) -> aac (native))\n",
            "Press [q] to stop, [?] for help\n",
            "\u001b[1;36m[libx264 @ 0x5c32fcb7c340] \u001b[0musing SAR=1/1\n",
            "\u001b[1;36m[libx264 @ 0x5c32fcb7c340] \u001b[0musing cpu capabilities: MMX2 SSE2Fast SSSE3 SSE4.2 AVX FMA3 BMI2 AVX2\n",
            "\u001b[1;36m[libx264 @ 0x5c32fcb7c340] \u001b[0mprofile High, level 3.1, 4:2:0, 8-bit\n",
            "\u001b[1;36m[libx264 @ 0x5c32fcb7c340] \u001b[0m264 - core 163 r3060 5db6aa6 - H.264/MPEG-4 AVC codec - Copyleft 2003-2021 - http://www.videolan.org/x264.html - options: cabac=1 ref=3 deblock=1:0:0 analyse=0x3:0x113 me=hex subme=7 psy=1 psy_rd=1.00:0.00 mixed_ref=1 me_range=16 chroma_me=1 trellis=1 8x8dct=1 cqm=0 deadzone=21,11 fast_pskip=1 chroma_qp_offset=-2 threads=3 lookahead_threads=1 sliced_threads=0 nr=0 decimate=1 interlaced=0 bluray_compat=0 constrained_intra=0 bframes=3 b_pyramid=2 b_adapt=1 b_bias=0 direct=1 weightb=1 open_gop=0 weightp=2 keyint=250 keyint_min=25 scenecut=40 intra_refresh=0 rc_lookahead=40 rc=crf mbtree=1 crf=23.0 qcomp=0.60 qpmin=0 qpmax=69 qpstep=4 ip_ratio=1.40 aq=1:1.00\n",
            "-async is forwarded to lavfi similarly to -af aresample=async=1:min_hard_comp=0.100000:first_pts=0.\n",
            "Output #0, mp4, to './input_video.mp4':\n",
            "  Metadata:\n",
            "    major_brand     : mp42\n",
            "    minor_version   : 0\n",
            "    compatible_brands: isommp42\n",
            "    encoder         : Lavf58.76.100\n",
            "  Stream #0:0(und): Video: h264 (avc1 / 0x31637661), yuv420p(tv, bt709, progressive), 1280x640 [SAR 1:1 DAR 2:1], q=2-31, 25 fps, 12800 tbn (default)\n",
            "    Metadata:\n",
            "      creation_time   : 2023-05-31T06:27:58.000000Z\n",
            "      handler_name    : ISO Media file produced by Google Inc. Created on: 05/30/2023.\n",
            "      vendor_id       : [0][0][0][0]\n",
            "      encoder         : Lavc58.134.100 libx264\n",
            "    Side data:\n",
            "      cpb: bitrate max/min/avg: 0/0/0 buffer size: 0 vbv_delay: N/A\n",
            "  Stream #0:1(eng): Audio: aac (LC) (mp4a / 0x6134706D), 44100 Hz, stereo, fltp, 128 kb/s (default)\n",
            "    Metadata:\n",
            "      creation_time   : 2023-05-31T06:27:58.000000Z\n",
            "      handler_name    : ISO Media file produced by Google Inc. Created on: 05/30/2023.\n",
            "      vendor_id       : [0][0][0][0]\n",
            "      encoder         : Lavc58.134.100 aac\n",
            "frame= 1675 fps= 29 q=-1.0 Lsize=    7133kB time=00:01:06.98 bitrate= 872.2kbits/s speed=1.14x    \n",
            "video:6022kB audio:1055kB subtitle:0kB other streams:0kB global headers:0kB muxing overhead: 0.776816%\n",
            "\u001b[1;36m[libx264 @ 0x5c32fcb7c340] \u001b[0mframe I:12    Avg QP:15.64  size: 47203\n",
            "\u001b[1;36m[libx264 @ 0x5c32fcb7c340] \u001b[0mframe P:548   Avg QP:20.35  size:  6780\n",
            "\u001b[1;36m[libx264 @ 0x5c32fcb7c340] \u001b[0mframe B:1115  Avg QP:24.68  size:  1690\n",
            "\u001b[1;36m[libx264 @ 0x5c32fcb7c340] \u001b[0mconsecutive B-frames:  1.3% 19.2% 32.2% 47.3%\n",
            "\u001b[1;36m[libx264 @ 0x5c32fcb7c340] \u001b[0mmb I  I16..4: 30.8% 44.2% 24.9%\n",
            "\u001b[1;36m[libx264 @ 0x5c32fcb7c340] \u001b[0mmb P  I16..4:  3.1%  4.8%  0.7%  P16..4: 28.7%  7.3%  2.5%  0.0%  0.0%    skip:52.9%\n",
            "\u001b[1;36m[libx264 @ 0x5c32fcb7c340] \u001b[0mmb B  I16..4:  0.1%  0.3%  0.1%  B16..8: 22.4%  2.0%  0.2%  direct: 0.5%  skip:74.3%  L0:41.6% L1:54.2% BI: 4.2%\n",
            "\u001b[1;36m[libx264 @ 0x5c32fcb7c340] \u001b[0m8x8 transform intra:54.4% inter:69.8%\n",
            "\u001b[1;36m[libx264 @ 0x5c32fcb7c340] \u001b[0mcoded y,uvDC,uvAC intra: 30.2% 38.8% 10.9% inter: 3.4% 3.7% 0.0%\n",
            "\u001b[1;36m[libx264 @ 0x5c32fcb7c340] \u001b[0mi16 v,h,dc,p: 37% 22% 12% 29%\n",
            "\u001b[1;36m[libx264 @ 0x5c32fcb7c340] \u001b[0mi8 v,h,dc,ddl,ddr,vr,hd,vl,hu: 25% 16% 38%  3%  4%  4%  4%  3%  3%\n",
            "\u001b[1;36m[libx264 @ 0x5c32fcb7c340] \u001b[0mi4 v,h,dc,ddl,ddr,vr,hd,vl,hu: 26% 22% 16%  4%  8%  7%  8%  5%  5%\n",
            "\u001b[1;36m[libx264 @ 0x5c32fcb7c340] \u001b[0mi8c dc,h,v,p: 59% 18% 17%  6%\n",
            "\u001b[1;36m[libx264 @ 0x5c32fcb7c340] \u001b[0mWeighted P-Frames: Y:0.5% UV:0.0%\n",
            "\u001b[1;36m[libx264 @ 0x5c32fcb7c340] \u001b[0mref P L0: 71.8% 10.4% 12.4%  5.3%  0.0%\n",
            "\u001b[1;36m[libx264 @ 0x5c32fcb7c340] \u001b[0mref B L0: 86.4% 11.3%  2.2%\n",
            "\u001b[1;36m[libx264 @ 0x5c32fcb7c340] \u001b[0mref B L1: 97.8%  2.2%\n",
            "\u001b[1;36m[libx264 @ 0x5c32fcb7c340] \u001b[0mkb/s:736.26\n",
            "\u001b[1;36m[aac @ 0x5c32fcb8a900] \u001b[0mQavg: 300.501\n",
            "Downloading...\n",
            "From: https://drive.google.com/uc?id=1jhUOAeGw8lPjNf7Q1cIcBOvzE3CJ3gVz\n",
            "To: /content/output10.wav\n",
            "100% 808k/808k [00:00<00:00, 104MB/s]\n"
          ]
        }
      ],
      "source": [
        "def download(video_url):\n",
        "    video = YouTube(video_url)\n",
        "    video = video.streams.get_highest_resolution()\n",
        "    video.download(filename = 'youtube_video.mp4')\n",
        "    print(\"video was downloaded successfully\")\n",
        "\n",
        "download(\"https://www.youtube.com/watch?v=YMuuEv37s0o\")\n",
        "!ffmpeg -y -i youtube_video.mp4 -ss 0 -t 67 -async 1 ./input_video.mp4\n",
        "\n",
        "# this cmd uses FFmpeg to trim the downloaded video from the 'youtube_video.mp4', from 0 seconds to 67 seconds, and saves it as 'input_video.mp4'.\n",
        "# We trimmed the video to the same size of audio\n",
        "\n",
        "!gdown 1jhUOAeGw8lPjNf7Q1cIcBOvzE3CJ3gVz\n",
        "\n",
        "# we download files from Google Drive using gdown"
      ]
    },
    {
      "cell_type": "markdown",
      "metadata": {
        "id": "YZcUk4-Cq7et"
      },
      "source": [
        "# Syncing"
      ]
    },
    {
      "cell_type": "code",
      "execution_count": 7,
      "metadata": {
        "colab": {
          "base_uri": "https://localhost:8080/"
        },
        "id": "8LneRt0nsJS2",
        "outputId": "5ee3bbcb-7065-4b23-97e6-6619c2c8d3f3"
      },
      "outputs": [
        {
          "name": "stdout",
          "output_type": "stream",
          "text": [
            "Using cuda for inference.\n",
            "Reading video frames...\n",
            "Number of frames available for inference: 1675\n",
            "/content/Lip-Sync-Repo/Wav2Lip/audio.py:100: FutureWarning: Pass sr=16000, n_fft=800 as keyword args. From version 0.10 passing these as positional arguments will result in an error\n",
            "  return librosa.filters.mel(hp.sample_rate, hp.n_fft, n_mels=hp.num_mels,\n",
            "(80, 5386)\n",
            "Length of mel chunks: 1680\n",
            "  0% 0/14 [00:00<?, ?it/s]\n",
            "  0% 0/53 [00:00<?, ?it/s]\u001b[A\n",
            "  2% 1/53 [03:17<2:51:23, 197.77s/it]\u001b[A\n",
            "  4% 2/53 [03:21<1:10:57, 83.48s/it] \u001b[A\n",
            "  6% 3/53 [03:24<39:03, 46.87s/it]  \u001b[A\n",
            "  8% 4/53 [03:27<24:08, 29.57s/it]\u001b[A\n",
            "  9% 5/53 [03:30<16:00, 20.01s/it]\u001b[A\n",
            " 11% 6/53 [03:33<11:08, 14.23s/it]\u001b[A\n",
            " 13% 7/53 [03:36<08:08, 10.62s/it]\u001b[A\n",
            " 15% 8/53 [03:40<06:12,  8.27s/it]\u001b[A\n",
            " 17% 9/53 [03:43<04:56,  6.74s/it]\u001b[A\n",
            " 19% 10/53 [03:46<04:06,  5.72s/it]\u001b[A\n",
            " 21% 11/53 [03:50<03:32,  5.07s/it]\u001b[A\n",
            " 23% 12/53 [03:54<03:08,  4.61s/it]\u001b[A\n",
            " 25% 13/53 [03:57<02:50,  4.25s/it]\u001b[A\n",
            " 26% 14/53 [04:00<02:30,  3.87s/it]\u001b[A\n",
            " 28% 15/53 [04:03<02:19,  3.68s/it]\u001b[A\n",
            " 30% 16/53 [04:06<02:08,  3.46s/it]\u001b[A\n",
            " 32% 17/53 [04:09<01:58,  3.30s/it]\u001b[A\n",
            " 34% 18/53 [04:12<01:54,  3.28s/it]\u001b[A\n",
            " 36% 19/53 [04:16<01:52,  3.30s/it]\u001b[A\n",
            " 38% 20/53 [04:19<01:46,  3.23s/it]\u001b[A\n",
            " 40% 21/53 [04:22<01:40,  3.15s/it]\u001b[A\n",
            " 42% 22/53 [04:25<01:37,  3.15s/it]\u001b[A\n",
            " 43% 23/53 [04:28<01:35,  3.17s/it]\u001b[A\n",
            " 45% 24/53 [04:31<01:29,  3.10s/it]\u001b[A\n",
            " 47% 25/53 [04:34<01:26,  3.08s/it]\u001b[A\n",
            " 49% 26/53 [04:37<01:23,  3.10s/it]\u001b[A\n",
            " 51% 27/53 [04:41<01:22,  3.17s/it]\u001b[A\n",
            " 53% 28/53 [04:44<01:18,  3.13s/it]\u001b[A\n",
            " 55% 29/53 [04:47<01:14,  3.10s/it]\u001b[A\n",
            " 57% 30/53 [04:50<01:11,  3.12s/it]\u001b[A\n",
            " 58% 31/53 [04:53<01:10,  3.19s/it]\u001b[A\n",
            " 60% 32/53 [04:56<01:05,  3.13s/it]\u001b[A\n",
            " 62% 33/53 [04:59<01:02,  3.11s/it]\u001b[A\n",
            " 64% 34/53 [05:02<00:59,  3.15s/it]\u001b[A\n",
            " 66% 35/53 [05:06<00:57,  3.20s/it]\u001b[A\n",
            " 68% 36/53 [05:09<00:53,  3.13s/it]\u001b[A\n",
            " 70% 37/53 [05:12<00:49,  3.11s/it]\u001b[A\n",
            " 72% 38/53 [05:15<00:47,  3.16s/it]\u001b[A\n",
            " 74% 39/53 [05:18<00:44,  3.20s/it]\u001b[A\n",
            " 75% 40/53 [05:21<00:40,  3.15s/it]\u001b[A\n",
            " 77% 41/53 [05:24<00:37,  3.10s/it]\u001b[A\n",
            " 79% 42/53 [05:27<00:34,  3.11s/it]\u001b[A\n",
            " 81% 43/53 [05:31<00:31,  3.17s/it]\u001b[A\n",
            " 83% 44/53 [05:34<00:28,  3.12s/it]\u001b[A\n",
            " 85% 45/53 [05:37<00:24,  3.09s/it]\u001b[A\n",
            " 87% 46/53 [05:40<00:21,  3.10s/it]\u001b[A\n",
            " 89% 47/53 [05:43<00:19,  3.23s/it]\u001b[A\n",
            " 91% 48/53 [05:48<00:17,  3.58s/it]\u001b[A\n",
            " 92% 49/53 [05:53<00:15,  3.91s/it]\u001b[A\n",
            " 94% 50/53 [05:57<00:12,  4.09s/it]\u001b[A\n",
            " 96% 51/53 [06:00<00:07,  3.78s/it]\u001b[A\n",
            " 98% 52/53 [06:04<00:03,  3.67s/it]\u001b[A\n",
            "100% 53/53 [06:19<00:00,  7.17s/it]\n",
            "Load checkpoint from: checkpoints/wav2lip_gan.pth\n",
            "Model loaded\n",
            "100% 14/14 [06:47<00:00, 29.13s/it]\n",
            "ffmpeg version 4.4.2-0ubuntu0.22.04.1 Copyright (c) 2000-2021 the FFmpeg developers\n",
            "  built with gcc 11 (Ubuntu 11.2.0-19ubuntu1)\n",
            "  configuration: --prefix=/usr --extra-version=0ubuntu0.22.04.1 --toolchain=hardened --libdir=/usr/lib/x86_64-linux-gnu --incdir=/usr/include/x86_64-linux-gnu --arch=amd64 --enable-gpl --disable-stripping --enable-gnutls --enable-ladspa --enable-libaom --enable-libass --enable-libbluray --enable-libbs2b --enable-libcaca --enable-libcdio --enable-libcodec2 --enable-libdav1d --enable-libflite --enable-libfontconfig --enable-libfreetype --enable-libfribidi --enable-libgme --enable-libgsm --enable-libjack --enable-libmp3lame --enable-libmysofa --enable-libopenjpeg --enable-libopenmpt --enable-libopus --enable-libpulse --enable-librabbitmq --enable-librubberband --enable-libshine --enable-libsnappy --enable-libsoxr --enable-libspeex --enable-libsrt --enable-libssh --enable-libtheora --enable-libtwolame --enable-libvidstab --enable-libvorbis --enable-libvpx --enable-libwebp --enable-libx265 --enable-libxml2 --enable-libxvid --enable-libzimg --enable-libzmq --enable-libzvbi --enable-lv2 --enable-omx --enable-openal --enable-opencl --enable-opengl --enable-sdl2 --enable-pocketsphinx --enable-librsvg --enable-libmfx --enable-libdc1394 --enable-libdrm --enable-libiec61883 --enable-chromaprint --enable-frei0r --enable-libx264 --enable-shared\n",
            "  libavutil      56. 70.100 / 56. 70.100\n",
            "  libavcodec     58.134.100 / 58.134.100\n",
            "  libavformat    58. 76.100 / 58. 76.100\n",
            "  libavdevice    58. 13.100 / 58. 13.100\n",
            "  libavfilter     7.110.100 /  7.110.100\n",
            "  libswscale      5.  9.100 /  5.  9.100\n",
            "  libswresample   3.  9.100 /  3.  9.100\n",
            "  libpostproc    55.  9.100 / 55.  9.100\n",
            "\u001b[0;35m[mp3 @ 0x5c4f342512c0] \u001b[0m\u001b[0;33mEstimating duration from bitrate, this may be inaccurate\n",
            "\u001b[0mInput #0, mp3, from '../../output10.wav':\n",
            "  Duration: 00:01:07.32, start: 0.000000, bitrate: 96 kb/s\n",
            "  Stream #0:0: Audio: mp3, 44100 Hz, mono, fltp, 96 kb/s\n",
            "Input #1, avi, from 'temp/result.avi':\n",
            "  Metadata:\n",
            "    software        : Lavf59.27.100\n",
            "  Duration: 00:01:07.20, start: 0.000000, bitrate: 1586 kb/s\n",
            "  Stream #1:0: Video: mpeg4 (Simple Profile) (DIVX / 0x58564944), yuv420p, 720x720 [SAR 1:1 DAR 1:1], 1581 kb/s, 25 fps, 25 tbr, 25 tbn, 25 tbc\n",
            "Stream mapping:\n",
            "  Stream #1:0 -> #0:0 (mpeg4 (native) -> h264 (libx264))\n",
            "  Stream #0:0 -> #0:1 (mp3 (mp3float) -> aac (native))\n",
            "Press [q] to stop, [?] for help\n",
            "\u001b[1;36m[libx264 @ 0x5c4f34292e00] \u001b[0m\u001b[0;33m-qscale is ignored, -crf is recommended.\n",
            "\u001b[0m\u001b[1;36m[libx264 @ 0x5c4f34292e00] \u001b[0musing SAR=1/1\n",
            "\u001b[1;36m[libx264 @ 0x5c4f34292e00] \u001b[0musing cpu capabilities: MMX2 SSE2Fast SSSE3 SSE4.2 AVX FMA3 BMI2 AVX2\n",
            "\u001b[1;36m[libx264 @ 0x5c4f34292e00] \u001b[0mprofile High, level 3.1, 4:2:0, 8-bit\n",
            "\u001b[1;36m[libx264 @ 0x5c4f34292e00] \u001b[0m264 - core 163 r3060 5db6aa6 - H.264/MPEG-4 AVC codec - Copyleft 2003-2021 - http://www.videolan.org/x264.html - options: cabac=1 ref=3 deblock=1:0:0 analyse=0x3:0x113 me=hex subme=7 psy=1 psy_rd=1.00:0.00 mixed_ref=1 me_range=16 chroma_me=1 trellis=1 8x8dct=1 cqm=0 deadzone=21,11 fast_pskip=1 chroma_qp_offset=-2 threads=3 lookahead_threads=1 sliced_threads=0 nr=0 decimate=1 interlaced=0 bluray_compat=0 constrained_intra=0 bframes=3 b_pyramid=2 b_adapt=1 b_bias=0 direct=1 weightb=1 open_gop=0 weightp=2 keyint=250 keyint_min=25 scenecut=40 intra_refresh=0 rc_lookahead=40 rc=crf mbtree=1 crf=23.0 qcomp=0.60 qpmin=0 qpmax=69 qpstep=4 ip_ratio=1.40 aq=1:1.00\n",
            "Output #0, mp4, to '../../output_video.mp4':\n",
            "  Metadata:\n",
            "    encoder         : Lavf58.76.100\n",
            "  Stream #0:0: Video: h264 (avc1 / 0x31637661), yuv420p(progressive), 720x720 [SAR 1:1 DAR 1:1], q=2-31, 25 fps, 12800 tbn\n",
            "    Metadata:\n",
            "      encoder         : Lavc58.134.100 libx264\n",
            "    Side data:\n",
            "      cpb: bitrate max/min/avg: 0/0/0 buffer size: 0 vbv_delay: N/A\n",
            "  Stream #0:1: Audio: aac (LC) (mp4a / 0x6134706D), 44100 Hz, mono, fltp, 69 kb/s\n",
            "    Metadata:\n",
            "      encoder         : Lavc58.134.100 aac\n",
            "frame= 1680 fps= 43 q=-1.0 Lsize=    5950kB time=00:01:07.31 bitrate= 724.1kbits/s speed=1.74x    \n",
            "video:5329kB audio:571kB subtitle:0kB other streams:0kB global headers:0kB muxing overhead: 0.855474%\n",
            "\u001b[1;36m[libx264 @ 0x5c4f34292e00] \u001b[0mframe I:13    Avg QP:17.20  size: 31143\n",
            "\u001b[1;36m[libx264 @ 0x5c4f34292e00] \u001b[0mframe P:1111  Avg QP:22.04  size:  3704\n",
            "\u001b[1;36m[libx264 @ 0x5c4f34292e00] \u001b[0mframe B:556   Avg QP:25.57  size:  1684\n",
            "\u001b[1;36m[libx264 @ 0x5c4f34292e00] \u001b[0mconsecutive B-frames: 51.7%  8.3% 12.9% 27.1%\n",
            "\u001b[1;36m[libx264 @ 0x5c4f34292e00] \u001b[0mmb I  I16..4: 24.0% 69.1%  6.9%\n",
            "\u001b[1;36m[libx264 @ 0x5c4f34292e00] \u001b[0mmb P  I16..4:  1.2%  5.1%  0.2%  P16..4: 28.1%  5.8%  2.6%  0.0%  0.0%    skip:56.9%\n",
            "\u001b[1;36m[libx264 @ 0x5c4f34292e00] \u001b[0mmb B  I16..4:  0.5%  2.0%  0.0%  B16..8: 27.3%  2.9%  0.4%  direct: 0.6%  skip:66.3%  L0:52.5% L1:42.6% BI: 4.9%\n",
            "\u001b[1;36m[libx264 @ 0x5c4f34292e00] \u001b[0m8x8 transform intra:77.7% inter:83.0%\n",
            "\u001b[1;36m[libx264 @ 0x5c4f34292e00] \u001b[0mcoded y,uvDC,uvAC intra: 35.9% 41.1% 10.6% inter: 6.4% 7.3% 0.1%\n",
            "\u001b[1;36m[libx264 @ 0x5c4f34292e00] \u001b[0mi16 v,h,dc,p: 61% 12% 16% 11%\n",
            "\u001b[1;36m[libx264 @ 0x5c4f34292e00] \u001b[0mi8 v,h,dc,ddl,ddr,vr,hd,vl,hu: 37% 13% 39%  2%  2%  3%  1%  2%  1%\n",
            "\u001b[1;36m[libx264 @ 0x5c4f34292e00] \u001b[0mi4 v,h,dc,ddl,ddr,vr,hd,vl,hu: 47% 12% 13%  3%  6%  9%  4%  5%  2%\n",
            "\u001b[1;36m[libx264 @ 0x5c4f34292e00] \u001b[0mi8c dc,h,v,p: 55% 13% 28%  3%\n",
            "\u001b[1;36m[libx264 @ 0x5c4f34292e00] \u001b[0mWeighted P-Frames: Y:0.1% UV:0.0%\n",
            "\u001b[1;36m[libx264 @ 0x5c4f34292e00] \u001b[0mref P L0: 74.7%  8.6% 12.8%  3.9%  0.0%\n",
            "\u001b[1;36m[libx264 @ 0x5c4f34292e00] \u001b[0mref B L0: 85.4% 11.7%  2.9%\n",
            "\u001b[1;36m[libx264 @ 0x5c4f34292e00] \u001b[0mref B L1: 96.9%  3.1%\n",
            "\u001b[1;36m[libx264 @ 0x5c4f34292e00] \u001b[0mkb/s:649.52\n",
            "\u001b[1;36m[aac @ 0x5c4f34294940] \u001b[0mQavg: 158.533\n"
          ]
        }
      ],
      "source": [
        "!cd ./Lip-Sync-Repo/Wav2Lip && python inference.py --checkpoint_path checkpoints/wav2lip_gan.pth --face \"../../input_video.mp4\" --audio \"../../output10.wav\" --nosmooth --outfile '../../output_video.mp4' --fps 25 --face_det_batch_size 32 --wav2lip_batch_size 128\n",
        "\n",
        "\n",
        "# runs the inference.py to following\n",
        "# 1. '--checkpoint_path': Specifies the path to the checkpoint file\n",
        "# 2. '--face': Specifies the path to the input video file that contains faces ('../../input_video.mp4').\n",
        "# 3. '--audio': Specifies the path to the audio file used for lip-syncing ('../../output10.wav').\n",
        "# 4. '--nosmooth': Disables frame smoothing during the lip-syncing process.\n",
        "# 5. '--outfile': Specifies the output file where the lip-synced video will be saved ('../../output_video.mp4').\n",
        "# 6. '--fps': Sets the frames per second (FPS) of the output video to 25.\n",
        "# 7. '--face_det_batch_size': Defines the batch size for face detection, set to 32.\n",
        "# 8. '--wav2lip_batch_size': Defines the batch size for the lip-syncing process, set to 128.\n"
      ]
    },
    {
      "cell_type": "markdown",
      "metadata": {
        "id": "9moEV8mYvg9N"
      },
      "source": [
        "# Download the video\n"
      ]
    },
    {
      "cell_type": "code",
      "execution_count": null,
      "metadata": {
        "id": "hPGgp-eOsitX"
      },
      "outputs": [],
      "source": [
        "from google.colab import files\n",
        "files.download('./output_video.mp4')"
      ]
    }
  ],
  "metadata": {
    "accelerator": "GPU",
    "colab": {
      "gpuType": "T4",
      "provenance": []
    },
    "kernelspec": {
      "display_name": "Python 3",
      "name": "python3"
    },
    "language_info": {
      "name": "python"
    }
  },
  "nbformat": 4,
  "nbformat_minor": 0
}
